{
 "cells": [
  {
   "cell_type": "code",
   "execution_count": 1,
   "metadata": {},
   "outputs": [
    {
     "name": "stdout",
     "output_type": "stream",
     "text": [
      "2.1.0\n"
     ]
    }
   ],
   "source": [
    "import tensorflow as tf\n",
    "import pandas as pd\n",
    "import matplotlib.pyplot as plt\n",
    "import numpy as np\n",
    "print(tf.__version__)"
   ]
  },
  {
   "cell_type": "code",
   "execution_count": 2,
   "metadata": {},
   "outputs": [
    {
     "name": "stdout",
     "output_type": "stream",
     "text": [
      "float32\n"
     ]
    }
   ],
   "source": [
    "score_data = np.genfromtxt('scores.csv', delimiter=',', dtype = np.float32)\n",
    "print(score_data.dtype)"
   ]
  },
  {
   "cell_type": "code",
   "execution_count": null,
   "metadata": {},
   "outputs": [],
   "source": [
    "score_data.view()"
   ]
  },
  {
   "cell_type": "code",
   "execution_count": null,
   "metadata": {},
   "outputs": [],
   "source": [
    "#math = np.array(score_data['Math'])\n",
    "x1 = np.array(score_data[1:, 0:1])\n",
    "x2 = np.array(score_data[1:, 1:2])\n",
    "x3 = np.array(score_data[1:, 2:3])\n",
    "Y = np.array(score_data[1:, -1:]) #실제 값들\n",
    "print(x1)\n",
    "print()\n",
    "print(x2)\n",
    "print()\n",
    "print(x3)\n",
    "print()\n",
    "print(Y)"
   ]
  },
  {
   "cell_type": "code",
   "execution_count": null,
   "metadata": {},
   "outputs": [],
   "source": [
    "w1 = tf.Variable(tf.random.normal([1]))\n",
    "w2 = tf.Variable(tf.random.normal([1]))\n",
    "w3 = tf.Variable(tf.random.normal([1]))\n",
    "b = tf.Variable(tf.random.normal([1]))"
   ]
  },
  {
   "cell_type": "code",
   "execution_count": null,
   "metadata": {},
   "outputs": [],
   "source": [
    "print(w1.shape)"
   ]
  },
  {
   "cell_type": "code",
   "execution_count": 3,
   "metadata": {},
   "outputs": [],
   "source": [
    "learning_rate = 0.000001"
   ]
  },
  {
   "cell_type": "code",
   "execution_count": null,
   "metadata": {},
   "outputs": [],
   "source": [
    "hypothesis =x1 * w1\n",
    "for i in hypothesis:\n",
    "    print(i)"
   ]
  },
  {
   "cell_type": "code",
   "execution_count": null,
   "metadata": {},
   "outputs": [],
   "source": [
    "x = tf.ones((2, 2))\n",
    "\n",
    "with tf.GradientTape() as t:\n",
    "  y = tf.reduce_sum(x)\n",
    "  print (y)\n",
    "  z = tf.multiply(y, y)\n",
    "  print(z)\n",
    "\n",
    "# 테이프 사용하여 중간값 y에 대한 도함수를 계산합니다. \n",
    "dz_dy = t.gradient(z, y)\n",
    "print(dz_dy)"
   ]
  },
  {
   "cell_type": "code",
   "execution_count": null,
   "metadata": {},
   "outputs": [],
   "source": [
    "for i in range(10000):\n",
    "    with tf.GradientTape() as tape:\n",
    "        hypothesis = x1 * w1 + x2 * w2 + x3 * w3 + b\n",
    "        cost = tf.reduce_mean(tf.square(hypothesis - Y)) #가설값과 실제값의 차이(cost)\n",
    "    \n",
    "    #cost의 새로운 기울기\n",
    "    w1_grad, w2_grad, w3_grad, b_grad = tape.gradient(cost, [w1, w2, w3, b])\n",
    "    \n",
    "    #새로 구한 기울기값으로 weight값들 update\n",
    "    w1.assign_sub(learning_rate * w1_grad) # W1 -= learning_rate * w1_grad\n",
    "    w2.assign_sub(learning_rate * w2_grad)\n",
    "    w3.assign_sub(learning_rate * w3_grad)\n",
    "    b.assign_sub(learning_rate * b_grad)\n",
    "    \n",
    "    if i % 100 == 0:\n",
    "        print(\"{:5} | {:12.4f}\".format(i, cost.numpy())) #차이(cost)가 작아져야 성공적인것이다"
   ]
  },
  {
   "cell_type": "code",
   "execution_count": 15,
   "metadata": {},
   "outputs": [
    {
     "name": "stdout",
     "output_type": "stream",
     "text": [
      "[[90. 81. 95.]\n",
      " [76. 77. 71.]\n",
      " [77. 71. 97.]\n",
      " ...\n",
      " [94. 90. 89.]\n",
      " [84. 78. 99.]\n",
      " [97. 84. 96.]]\n",
      "[[281.]\n",
      " [235.]\n",
      " [257.]\n",
      " ...\n",
      " [290.]\n",
      " [271.]\n",
      " [291.]]\n"
     ]
    }
   ],
   "source": [
    "X = score_data[1:, :-1]\n",
    "Y = score_data[1:, [-1]]\n",
    "print(X)\n",
    "print(Y)"
   ]
  },
  {
   "cell_type": "code",
   "execution_count": 16,
   "metadata": {},
   "outputs": [
    {
     "name": "stdout",
     "output_type": "stream",
     "text": [
      "tf.Tensor(\n",
      "[[36.649754]\n",
      " [41.322548]\n",
      " [27.355818]\n",
      " ...\n",
      " [46.350155]\n",
      " [32.665966]\n",
      " [38.93132 ]], shape=(10000, 1), dtype=float32)\n"
     ]
    }
   ],
   "source": [
    "W = tf.Variable(tf.random.normal([3, 1])) #weight matrix (x_data의 column이 3개)\n",
    "b = tf.Variable(tf.random.normal([1]))\n",
    "\n",
    "def predict(X):\n",
    "    return tf.matmul(X, W) + b #bias는 생략가능\n",
    "print(predict(X))"
   ]
  },
  {
   "cell_type": "code",
   "execution_count": 22,
   "metadata": {},
   "outputs": [],
   "source": [
    "learning_rate = 0.00001"
   ]
  },
  {
   "cell_type": "code",
   "execution_count": 24,
   "metadata": {},
   "outputs": [
    {
     "name": "stdout",
     "output_type": "stream",
     "text": [
      "    0 |      10.9531\n",
      " 1000 |      10.9272\n",
      " 2000 |      10.9084\n",
      " 3000 |      10.8948\n",
      " 4000 |      10.8850\n",
      " 5000 |      10.8778\n",
      " 6000 |      10.8727\n",
      " 7000 |      10.8689\n",
      " 8000 |      10.8662\n",
      " 9000 |      10.8642\n"
     ]
    }
   ],
   "source": [
    "for i in range(10000):\n",
    "    with tf.GradientTape() as tape:\n",
    "        cost = tf.reduce_mean(tf.square(predict(X) - Y)) #가설값과 실제값의 차이(cost)\n",
    "    \n",
    "    #cost의 새로운 기울기\n",
    "    W_grad, b_grad = tape.gradient(cost, [W, b])\n",
    "    \n",
    "    #새로 구한 기울기값으로 weight값들 update\n",
    "    W.assign_sub(learning_rate * W_grad) # W1 -= learning_rate * w1_grad\n",
    "    b.assign_sub(learning_rate * b_grad)\n",
    "    \n",
    "    #차이(cost)가 작아져야 성공적인것이다(0에 가까워질수록 정확도 상승)\n",
    "    if i % 1000 == 0:\n",
    "        print(\"{:5} | {:12.4f}\".format(i, cost.numpy())) "
   ]
  },
  {
   "cell_type": "code",
   "execution_count": 26,
   "metadata": {},
   "outputs": [
    {
     "name": "stdout",
     "output_type": "stream",
     "text": [
      "76\n",
      "77\n",
      "71\n",
      "[[237.12062]]\n"
     ]
    }
   ],
   "source": [
    "x1 = float(input())\n",
    "x2 = float(input())\n",
    "x3 = float(input())\n",
    "input_x = np.array([[x1, x2, x3]], dtype = np.float32)\n",
    "print(predict(input_x).numpy())"
   ]
  },
  {
   "cell_type": "code",
   "execution_count": null,
   "metadata": {},
   "outputs": [],
   "source": []
  }
 ],
 "metadata": {
  "kernelspec": {
   "display_name": "tf-gpu",
   "language": "python",
   "name": "tensorflow"
  },
  "language_info": {
   "codemirror_mode": {
    "name": "ipython",
    "version": 3
   },
   "file_extension": ".py",
   "mimetype": "text/x-python",
   "name": "python",
   "nbconvert_exporter": "python",
   "pygments_lexer": "ipython3",
   "version": "3.7.4"
  }
 },
 "nbformat": 4,
 "nbformat_minor": 4
}

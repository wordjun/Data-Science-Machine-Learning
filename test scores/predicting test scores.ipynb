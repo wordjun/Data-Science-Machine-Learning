{
 "cells": [
  {
   "cell_type": "code",
   "execution_count": 1,
   "metadata": {},
   "outputs": [
    {
     "name": "stdout",
     "output_type": "stream",
     "text": [
      "2.1.0\n"
     ]
    }
   ],
   "source": [
    "import tensorflow as tf\n",
    "import pandas as pd\n",
    "import matplotlib.pyplot as plt\n",
    "import numpy as np\n",
    "print(tf.__version__)"
   ]
  },
  {
   "cell_type": "code",
   "execution_count": 15,
   "metadata": {},
   "outputs": [],
   "source": [
    "score_data = np.genfromtxt('scores.csv', delimiter=',')"
   ]
  },
  {
   "cell_type": "code",
   "execution_count": 17,
   "metadata": {},
   "outputs": [
    {
     "data": {
      "text/plain": [
       "array([[nan, nan, nan, nan, nan],\n",
       "       [90., 81., 95., 89., nan],\n",
       "       [76., 77., 71., 75., nan],\n",
       "       ...,\n",
       "       [94., 90., 89., 91., nan],\n",
       "       [84., 78., 99., 87., nan],\n",
       "       [97., 84., 96., 92., nan]])"
      ]
     },
     "execution_count": 17,
     "metadata": {},
     "output_type": "execute_result"
    }
   ],
   "source": [
    "score_data.view()"
   ]
  },
  {
   "cell_type": "code",
   "execution_count": 25,
   "metadata": {},
   "outputs": [
    {
     "name": "stdout",
     "output_type": "stream",
     "text": [
      "[[90.]\n",
      " [76.]\n",
      " [77.]\n",
      " ...\n",
      " [94.]\n",
      " [84.]\n",
      " [97.]]\n",
      "\n",
      "[[81.]\n",
      " [77.]\n",
      " [71.]\n",
      " ...\n",
      " [90.]\n",
      " [78.]\n",
      " [84.]]\n",
      "\n",
      "[[95.]\n",
      " [71.]\n",
      " [97.]\n",
      " ...\n",
      " [89.]\n",
      " [99.]\n",
      " [96.]]\n"
     ]
    }
   ],
   "source": [
    "#math = np.array(score_data['Math'])\n",
    "math = np.array(score_data[1:, 0:1])\n",
    "english = np.array(score_data[1:, 1:2])\n",
    "science = np.array(score_data[1:, 2:3])\n",
    "print(math)\n",
    "print()\n",
    "print(english)\n",
    "print()\n",
    "print(science)"
   ]
  },
  {
   "cell_type": "code",
   "execution_count": null,
   "metadata": {},
   "outputs": [],
   "source": [
    "w1 = tf.Variable(tf.random.normal([1]))\n",
    "w2 = tf.Variable(tf.random.normal([1]))\n",
    "w3 = tf.Variable(tf.random.normal([1]))\n",
    "b = tf.Variable(tf.random.normal([1]))"
   ]
  },
  {
   "cell_type": "code",
   "execution_count": null,
   "metadata": {},
   "outputs": [],
   "source": [
    "learning_rate = 0.00001"
   ]
  },
  {
   "cell_type": "code",
   "execution_count": null,
   "metadata": {},
   "outputs": [],
   "source": [
    "hypothesis = tf.multiply(math, w1)\n",
    "for i in hypothesis:\n",
    "    print('{:10.3f}'.format(i))"
   ]
  },
  {
   "cell_type": "code",
   "execution_count": null,
   "metadata": {},
   "outputs": [],
   "source": [
    "for i in range(1000):\n",
    "    with tf.GradientTape() as tape:\n",
    "        hypothesis = math * w1 + english * w2 + science * w3 + b\n",
    "        cost = tf.reduce_mean(tf.square(hypothesis - avg_score))\n",
    "    w1_grad, w2_grad, w3_grad, b_grad = tape.gradient(cost, [w1, w2, w3, b])\n",
    "    w1.assign_sub(learning_rate * w1_grad) # W1 -= learning_rate * w1_grad\n",
    "    w2.assign_sub(learning_rate * w2_grad)\n",
    "    w3.assign_sub(learning_rate * w3_grad)\n",
    "    b.assign_sub(learning_rate * b_grad)\n",
    "    \n",
    "    if i % 10 == 0:\n",
    "        print(\"{:5} | {:12.4f}\".format(i, cost.numpy()))"
   ]
  },
  {
   "cell_type": "code",
   "execution_count": null,
   "metadata": {},
   "outputs": [],
   "source": []
  },
  {
   "cell_type": "code",
   "execution_count": null,
   "metadata": {},
   "outputs": [],
   "source": [
    "hypothesis = math * w1\n",
    "print(hypothesis)"
   ]
  },
  {
   "cell_type": "code",
   "execution_count": null,
   "metadata": {},
   "outputs": [],
   "source": [
    "hypothesis = tf.multiply(math, w1)\n",
    "\n",
    "for i in hypothesis:\n",
    "    print('{:10.3f}'.format(i))"
   ]
  },
  {
   "cell_type": "code",
   "execution_count": null,
   "metadata": {},
   "outputs": [],
   "source": []
  }
 ],
 "metadata": {
  "kernelspec": {
   "display_name": "tf-gpu",
   "language": "python",
   "name": "tensorflow"
  },
  "language_info": {
   "codemirror_mode": {
    "name": "ipython",
    "version": 3
   },
   "file_extension": ".py",
   "mimetype": "text/x-python",
   "name": "python",
   "nbconvert_exporter": "python",
   "pygments_lexer": "ipython3",
   "version": "3.7.4"
  }
 },
 "nbformat": 4,
 "nbformat_minor": 4
}
